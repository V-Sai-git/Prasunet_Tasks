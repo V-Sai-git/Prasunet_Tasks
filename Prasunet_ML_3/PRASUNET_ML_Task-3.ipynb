{
 "cells": [
  {
   "cell_type": "markdown",
   "id": "6fd2dd10-a5a8-4f1d-9700-f2959bcaf3d1",
   "metadata": {},
   "source": [
    "# V. SAI SHRUTHIK (PRASUNET-ML-3)"
   ]
  },
  {
   "cell_type": "code",
   "execution_count": 2,
   "id": "6246e228-1b5b-4ba0-bbec-7fa1748a6bf6",
   "metadata": {},
   "outputs": [],
   "source": [
    "import os\n",
    "import numpy as np\n",
    "from sklearn.svm import SVC\n",
    "from sklearn.metrics import classification_report, confusion_matrix\n",
    "import matplotlib.pyplot as plt\n",
    "from tqdm import tqdm\n",
    "\n",
    "import joblib\n",
    "from sklearn.model_selection import GridSearchCV\n",
    "import cv2\n",
    "import seaborn as sns\n",
    "import time\n",
    "from sklearn.decomposition import PCA\n",
    "from sklearn.pipeline import Pipeline\n",
    "from sklearn.model_selection import train_test_split"
   ]
  },
  {
   "cell_type": "code",
   "execution_count": 3,
   "id": "11e021df-8257-4901-b4e0-b774a8c01353",
   "metadata": {},
   "outputs": [],
   "source": [
    "confusion_image_path = 'confusion matrix.png'\n",
    "classification_file_path = 'classification_report.txt'\n",
    "model_file_path = \"svm_model.pkl\"\n",
    "train_dir = \"C:/Users/natsu/OneDrive/Desktop/PRASUNET/TASK3/train\"\n",
    "test_dir = \"C:/Users/natsu/OneDrive/Desktop/PRASUNET/TASK3/ttest1\"\n",
    "train_images = os.listdir(train_dir)\n",
    "features = []\n",
    "labels = []\n",
    "image_size = (50, 50)"
   ]
  },
  {
   "cell_type": "code",
   "execution_count": 4,
   "id": "6db3f3c3-796a-458f-b379-2e1e4bc34631",
   "metadata": {},
   "outputs": [
    {
     "name": "stderr",
     "output_type": "stream",
     "text": [
      "Processing Train Images: 100%|██████████████████████████████████████████████████| 19017/19017 [03:09<00:00, 100.59it/s]\n"
     ]
    }
   ],
   "source": [
    "for image in tqdm(train_images, desc=\"Processing Train Images\"):\n",
    "    if image[0:3] == 'cat' :\n",
    "        label = 0\n",
    "    else :\n",
    "        label = 1\n",
    "    image_read = cv2.imread(train_dir+\"/\"+image)\n",
    "    image_resized = cv2.resize(image_read, image_size)\n",
    "    image_normalized = image_resized / 255.0\n",
    "    image_flatten = image_normalized.flatten()\n",
    "    features.append(image_flatten)\n",
    "    labels.append(label)"
   ]
  },
  {
   "cell_type": "code",
   "execution_count": 5,
   "id": "e2e06798-1ec3-479f-91c2-70b589535953",
   "metadata": {},
   "outputs": [],
   "source": [
    "del train_images"
   ]
  },
  {
   "cell_type": "code",
   "execution_count": 6,
   "id": "733b410f-863d-487d-bf8a-b395d52c050d",
   "metadata": {},
   "outputs": [],
   "source": [
    "features = np.asarray(features)\n",
    "labels = np.asarray(labels)\n",
    "\n",
    "# train test split\n",
    "X_train, X_test, y_train, y_test = train_test_split(features, labels, test_size=0.2, shuffle=True, random_state=42)"
   ]
  },
  {
   "cell_type": "code",
   "execution_count": 7,
   "id": "f22d930a-3344-4e90-9a33-bf7f9468a497",
   "metadata": {},
   "outputs": [],
   "source": [
    "del features\n",
    "del labels"
   ]
  },
  {
   "cell_type": "code",
   "execution_count": 8,
   "id": "9fc19953-4705-4ba3-ae96-309dd8ce2100",
   "metadata": {},
   "outputs": [],
   "source": [
    "# PCA, SVM, & Pipeline\n",
    "n_components = 0.8\n",
    "pca = PCA(n_components=n_components)\n",
    "svm = SVC()\n",
    "pca = PCA(n_components=n_components, random_state=42)\n",
    "pipeline = Pipeline([\n",
    "    ('pca', pca),\n",
    "    ('svm', svm)\n",
    "])"
   ]
  },
  {
   "cell_type": "code",
   "execution_count": 9,
   "id": "32496cc6-be7f-482c-b25b-6e7e3838a5ac",
   "metadata": {},
   "outputs": [],
   "source": [
    "param_grid = {\n",
    "    'pca__n_components': [2, 1, 0.9, 0.8],\n",
    "    'svm__kernel': ['linear', 'rbf', 'poly', 'sigmoid'],\n",
    "}"
   ]
  },
  {
   "cell_type": "code",
   "execution_count": 10,
   "id": "eaa7bc1f-eea4-44f3-9850-c6b5dcacd9ea",
   "metadata": {},
   "outputs": [
    {
     "name": "stdout",
     "output_type": "stream",
     "text": [
      "Fitting 3 folds for each of 16 candidates, totalling 48 fits\n",
      "[CV 1/3] END pca__n_components=2, svm__kernel=linear;, score=0.657 total time=20.1min\n",
      "[CV 2/3] END pca__n_components=2, svm__kernel=linear;, score=0.657 total time=10.4min\n",
      "[CV 3/3] END pca__n_components=2, svm__kernel=linear;, score=0.657 total time=15.0min\n",
      "[CV 1/3] END pca__n_components=2, svm__kernel=rbf;, score=0.657 total time=  14.9s\n",
      "[CV 2/3] END pca__n_components=2, svm__kernel=rbf;, score=0.657 total time=  12.9s\n",
      "[CV 3/3] END pca__n_components=2, svm__kernel=rbf;, score=0.657 total time=   8.4s\n",
      "[CV 1/3] END pca__n_components=2, svm__kernel=poly;, score=0.657 total time=   7.3s\n",
      "[CV 2/3] END pca__n_components=2, svm__kernel=poly;, score=0.657 total time=   7.3s\n",
      "[CV 3/3] END pca__n_components=2, svm__kernel=poly;, score=0.657 total time=   6.4s\n",
      "[CV 1/3] END pca__n_components=2, svm__kernel=sigmoid;, score=0.540 total time=   7.2s\n",
      "[CV 2/3] END pca__n_components=2, svm__kernel=sigmoid;, score=0.545 total time=   6.6s\n",
      "[CV 3/3] END pca__n_components=2, svm__kernel=sigmoid;, score=0.552 total time=   5.8s\n",
      "[CV 1/3] END pca__n_components=1, svm__kernel=linear;, score=0.657 total time= 8.1min\n",
      "[CV 2/3] END pca__n_components=1, svm__kernel=linear;, score=0.657 total time= 5.2min\n",
      "[CV 3/3] END pca__n_components=1, svm__kernel=linear;, score=0.657 total time=  48.9s\n",
      "[CV 1/3] END pca__n_components=1, svm__kernel=rbf;, score=0.657 total time=  17.6s\n",
      "[CV 2/3] END pca__n_components=1, svm__kernel=rbf;, score=0.657 total time=  15.1s\n",
      "[CV 3/3] END pca__n_components=1, svm__kernel=rbf;, score=0.657 total time=  10.3s\n",
      "[CV 1/3] END pca__n_components=1, svm__kernel=poly;, score=0.657 total time=   9.5s\n",
      "[CV 2/3] END pca__n_components=1, svm__kernel=poly;, score=0.657 total time=  10.0s\n",
      "[CV 3/3] END pca__n_components=1, svm__kernel=poly;, score=0.657 total time=   9.5s\n",
      "[CV 1/3] END pca__n_components=1, svm__kernel=sigmoid;, score=0.548 total time=   8.0s\n",
      "[CV 2/3] END pca__n_components=1, svm__kernel=sigmoid;, score=0.550 total time=   6.4s\n",
      "[CV 3/3] END pca__n_components=1, svm__kernel=sigmoid;, score=0.551 total time=   5.9s\n",
      "[CV 1/3] END pca__n_components=0.9, svm__kernel=linear;, score=0.680 total time= 8.5min\n",
      "[CV 2/3] END pca__n_components=0.9, svm__kernel=linear;, score=0.683 total time= 8.2min\n",
      "[CV 3/3] END pca__n_components=0.9, svm__kernel=linear;, score=0.675 total time= 8.1min\n",
      "[CV 1/3] END pca__n_components=0.9, svm__kernel=rbf;, score=0.712 total time= 6.3min\n",
      "[CV 2/3] END pca__n_components=0.9, svm__kernel=rbf;, score=0.707 total time= 6.2min\n",
      "[CV 3/3] END pca__n_components=0.9, svm__kernel=rbf;, score=0.711 total time= 6.4min\n",
      "[CV 1/3] END pca__n_components=0.9, svm__kernel=poly;, score=0.657 total time= 6.4min\n",
      "[CV 2/3] END pca__n_components=0.9, svm__kernel=poly;, score=0.652 total time= 6.2min\n",
      "[CV 3/3] END pca__n_components=0.9, svm__kernel=poly;, score=0.660 total time= 6.2min\n",
      "[CV 1/3] END pca__n_components=0.9, svm__kernel=sigmoid;, score=0.579 total time= 6.1min\n",
      "[CV 2/3] END pca__n_components=0.9, svm__kernel=sigmoid;, score=0.573 total time= 6.1min\n",
      "[CV 3/3] END pca__n_components=0.9, svm__kernel=sigmoid;, score=0.566 total time= 6.0min\n",
      "[CV 1/3] END pca__n_components=0.8, svm__kernel=linear;, score=0.657 total time=41.1min\n",
      "[CV 2/3] END pca__n_components=0.8, svm__kernel=linear;, score=0.657 total time=39.9min\n",
      "[CV 3/3] END pca__n_components=0.8, svm__kernel=linear;, score=0.657 total time=43.2min\n",
      "[CV 1/3] END pca__n_components=0.8, svm__kernel=rbf;, score=0.703 total time= 6.4min\n",
      "[CV 2/3] END pca__n_components=0.8, svm__kernel=rbf;, score=0.699 total time= 5.9min\n",
      "[CV 3/3] END pca__n_components=0.8, svm__kernel=rbf;, score=0.700 total time= 6.0min\n",
      "[CV 1/3] END pca__n_components=0.8, svm__kernel=poly;, score=0.658 total time= 6.4min\n",
      "[CV 2/3] END pca__n_components=0.8, svm__kernel=poly;, score=0.650 total time= 7.0min\n",
      "[CV 3/3] END pca__n_components=0.8, svm__kernel=poly;, score=0.654 total time= 7.1min\n",
      "[CV 1/3] END pca__n_components=0.8, svm__kernel=sigmoid;, score=0.552 total time= 6.8min\n",
      "[CV 2/3] END pca__n_components=0.8, svm__kernel=sigmoid;, score=0.566 total time= 6.7min\n",
      "[CV 3/3] END pca__n_components=0.8, svm__kernel=sigmoid;, score=0.561 total time= 7.3min\n"
     ]
    }
   ],
   "source": [
    "# training\n",
    "start_time = time.time()\n",
    "\n",
    "grid_search = GridSearchCV(pipeline, param_grid, cv=3, verbose=4)\n",
    "grid_search.fit(X_train, y_train)\n",
    "\n",
    "\n",
    "end_time = time.time()"
   ]
  },
  {
   "cell_type": "code",
   "execution_count": 11,
   "id": "17b96b49-a802-4285-8e59-27ff69ed0d7f",
   "metadata": {},
   "outputs": [],
   "source": [
    "del X_train\n",
    "del y_train"
   ]
  },
  {
   "cell_type": "code",
   "execution_count": 12,
   "id": "fdf26dce-6c55-4d95-9516-bf552c84997b",
   "metadata": {},
   "outputs": [
    {
     "name": "stdout",
     "output_type": "stream",
     "text": [
      "Training time: 5 hour 33 minute 34.83 second\n"
     ]
    }
   ],
   "source": [
    "# Calculate total training time\n",
    "training_time = end_time - start_time\n",
    "\n",
    "# Convert time to hours, minutes, seconds\n",
    "hours, remainder = divmod(training_time, 3600)\n",
    "minutes, seconds = divmod(remainder, 60)\n",
    "\n",
    "# Print out the training time\n",
    "print(f\"Training time: {int(hours)} hour {int(minutes)} minute {seconds:.2f} second\")"
   ]
  },
  {
   "cell_type": "code",
   "execution_count": 13,
   "id": "2dbd84fa-cfe5-4f3c-b60f-f426c8f12b7d",
   "metadata": {},
   "outputs": [
    {
     "name": "stdout",
     "output_type": "stream",
     "text": [
      "Best Parameters:  {'pca__n_components': 0.9, 'svm__kernel': 'rbf'}\n",
      "Best Score:  0.7099191480970223\n"
     ]
    }
   ],
   "source": [
    "# Get the best parameters & models\n",
    "best_pipeline = grid_search.best_estimator_\n",
    "best_params = grid_search.best_params_\n",
    "best_score = grid_search.best_score_\n",
    "\n",
    "print(\"Best Parameters: \", best_params)\n",
    "print(\"Best Score: \", best_score)"
   ]
  },
  {
   "cell_type": "code",
   "execution_count": 14,
   "id": "3bf34e90-571a-4783-8585-43f057df26d3",
   "metadata": {},
   "outputs": [
    {
     "name": "stdout",
     "output_type": "stream",
     "text": [
      "Model saved as best_model.joblib\n"
     ]
    }
   ],
   "source": [
    "# Save the best model\n",
    "model_filename = 'best_model.joblib'\n",
    "joblib.dump(best_pipeline, model_filename)\n",
    "\n",
    "print(f\"Model saved as {model_filename}\")"
   ]
  },
  {
   "cell_type": "code",
   "execution_count": 15,
   "id": "2b2a89e9-d27f-4053-a629-ce65e7da9ad0",
   "metadata": {},
   "outputs": [
    {
     "name": "stdout",
     "output_type": "stream",
     "text": [
      "Accuracy: 0.7252891692954785\n"
     ]
    }
   ],
   "source": [
    "# Evaluation with test data set\n",
    "accuracy = best_pipeline.score(X_test, y_test)\n",
    "print(\"Accuracy:\", accuracy)"
   ]
  },
  {
   "cell_type": "code",
   "execution_count": 16,
   "id": "c5727a8f-d75f-4216-aad5-a000089d926e",
   "metadata": {},
   "outputs": [
    {
     "name": "stdout",
     "output_type": "stream",
     "text": [
      "Classification Report:\n",
      "               precision    recall  f1-score   support\n",
      "\n",
      "         Cat       0.72      0.94      0.82      2499\n",
      "         Dog       0.73      0.31      0.44      1305\n",
      "\n",
      "    accuracy                           0.73      3804\n",
      "   macro avg       0.73      0.63      0.63      3804\n",
      "weighted avg       0.73      0.73      0.69      3804\n",
      "\n"
     ]
    }
   ],
   "source": [
    "y_pred = best_pipeline.predict(X_test)\n",
    "\n",
    "# classification report\n",
    "target_names = ['Cat', 'Dog']\n",
    "classification_rep = classification_report(y_test, y_pred, target_names=target_names)\n",
    "print(\"Classification Report:\\n\", classification_rep)\n",
    "\n",
    "with open(classification_file_path, 'w') as file:\n",
    "    file.write(classification_rep)"
   ]
  },
  {
   "cell_type": "code",
   "execution_count": 17,
   "id": "3f30fb58-4f86-4c53-a746-818abcd02db7",
   "metadata": {},
   "outputs": [
    {
     "data": {
      "image/png": "[encoded data removed]",
      "text/plain": [
       "<Figure size 640x480 with 2 Axes>"
      ]
     },
     "metadata": {},
     "output_type": "display_data"
    }
   ],
   "source": [
    "# Confusion matrix\n",
    "cm = confusion_matrix(y_test, y_pred)\n",
    "sns.heatmap(cm, annot=True, fmt=\"d\", cmap=\"Blues\")\n",
    "plt.xlabel('Predicted labels')\n",
    "plt.ylabel('True labels')\n",
    "plt.savefig(confusion_image_path)\n",
    "plt.show()"
   ]
  }
 ],
 "metadata": {
  "kernelspec": {
   "display_name": "Python 3 (ipykernel)",
   "language": "python",
   "name": "python3"
  },
  "language_info": {
   "codemirror_mode": {
    "name": "ipython",
    "version": 3
   },
   "file_extension": ".py",
   "mimetype": "text/x-python",
   "name": "python",
   "nbconvert_exporter": "python",
   "pygments_lexer": "ipython3",
   "version": "3.12.4"
  }
 },
 "nbformat": 4,
 "nbformat_minor": 5
}
